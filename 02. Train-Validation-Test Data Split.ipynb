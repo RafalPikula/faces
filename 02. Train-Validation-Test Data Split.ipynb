{
 "cells": [
  {
   "cell_type": "code",
   "execution_count": 1,
   "metadata": {},
   "outputs": [],
   "source": [
    "import numpy as np\n",
    "import pandas as pd\n",
    "import matplotlib.pyplot as plt\n",
    "import skimage\n",
    "from sklearn.utils import shuffle\n",
    "\n",
    "%matplotlib inline"
   ]
  },
  {
   "cell_type": "markdown",
   "metadata": {},
   "source": [
    "Read in the processed metadata."
   ]
  },
  {
   "cell_type": "code",
   "execution_count": 2,
   "metadata": {},
   "outputs": [
    {
     "data": {
      "text/html": [
       "<div>\n",
       "<style scoped>\n",
       "    .dataframe tbody tr th:only-of-type {\n",
       "        vertical-align: middle;\n",
       "    }\n",
       "\n",
       "    .dataframe tbody tr th {\n",
       "        vertical-align: top;\n",
       "    }\n",
       "\n",
       "    .dataframe thead th {\n",
       "        text-align: right;\n",
       "    }\n",
       "</style>\n",
       "<table border=\"1\" class=\"dataframe\">\n",
       "  <thead>\n",
       "    <tr style=\"text-align: right;\">\n",
       "      <th></th>\n",
       "      <th>photo_path</th>\n",
       "      <th>name</th>\n",
       "      <th>gender</th>\n",
       "      <th>age</th>\n",
       "    </tr>\n",
       "  </thead>\n",
       "  <tbody>\n",
       "    <tr>\n",
       "      <th>0</th>\n",
       "      <td>01/nm0000001_rm946909184_1899-5-10_1968.jpg</td>\n",
       "      <td>Fred Astaire</td>\n",
       "      <td>1</td>\n",
       "      <td>69</td>\n",
       "    </tr>\n",
       "    <tr>\n",
       "      <th>1</th>\n",
       "      <td>01/nm0000001_rm980463616_1899-5-10_1968.jpg</td>\n",
       "      <td>Fred Astaire</td>\n",
       "      <td>1</td>\n",
       "      <td>69</td>\n",
       "    </tr>\n",
       "    <tr>\n",
       "      <th>2</th>\n",
       "      <td>02/nm0000002_rm221957120_1924-9-16_1974.jpg</td>\n",
       "      <td>Lauren Bacall</td>\n",
       "      <td>0</td>\n",
       "      <td>49</td>\n",
       "    </tr>\n",
       "    <tr>\n",
       "      <th>3</th>\n",
       "      <td>02/nm0000002_rm238734336_1924-9-16_1974.jpg</td>\n",
       "      <td>Lauren Bacall</td>\n",
       "      <td>0</td>\n",
       "      <td>49</td>\n",
       "    </tr>\n",
       "    <tr>\n",
       "      <th>4</th>\n",
       "      <td>02/nm0000002_rm370988544_1924-9-16_1991.jpg</td>\n",
       "      <td>Lauren Bacall</td>\n",
       "      <td>0</td>\n",
       "      <td>66</td>\n",
       "    </tr>\n",
       "  </tbody>\n",
       "</table>\n",
       "</div>"
      ],
      "text/plain": [
       "                                    photo_path           name  gender  age\n",
       "0  01/nm0000001_rm946909184_1899-5-10_1968.jpg   Fred Astaire       1   69\n",
       "1  01/nm0000001_rm980463616_1899-5-10_1968.jpg   Fred Astaire       1   69\n",
       "2  02/nm0000002_rm221957120_1924-9-16_1974.jpg  Lauren Bacall       0   49\n",
       "3  02/nm0000002_rm238734336_1924-9-16_1974.jpg  Lauren Bacall       0   49\n",
       "4  02/nm0000002_rm370988544_1924-9-16_1991.jpg  Lauren Bacall       0   66"
      ]
     },
     "execution_count": 2,
     "metadata": {},
     "output_type": "execute_result"
    }
   ],
   "source": [
    "photo_data = pd.read_csv('processed_photo_metadata.csv')\n",
    "photo_data.head()"
   ]
  },
  {
   "cell_type": "markdown",
   "metadata": {},
   "source": [
    "We are going to partition the photo metadata into 3 sets: the test set, the validation set and the train set. We want to ensure that:\n",
    "- the model is trained, validated and tested on disjoint sets of face photos, \n",
    "- the photos of the same person do not appear too frequently in the validation and test sets so as not to skew the results.\n",
    "\n",
    "Given the above reasoning, we form:\n",
    "- the test set by selecting the photos of people who appear 1 or 3 times in the data set, \n",
    "- the validation set by selecting the photos of people who appear 2 times in the data set,\n",
    "- the train set by selecting the remaining photos, i.e., the photos of people who appear at least 4 times in the data set, and shuffling them randomly since they are ordered by name.\n",
    "\n",
    "Such assignment roughly maximizes the number of different faces in the validation and test sets. On the downside, as will be shown presently, this arbitrary choice somewhat disrupts the distributon of certain key characteristics."
   ]
  },
  {
   "cell_type": "code",
   "execution_count": 3,
   "metadata": {},
   "outputs": [],
   "source": [
    "name_count = photo_data['name'].value_counts()\n",
    "\n",
    "test_index = photo_data['name'].apply(lambda name: name_count[name]).isin([1, 3])\n",
    "valid_index = photo_data['name'].apply(lambda name: name_count[name]) == 2\n",
    "train_index = photo_data['name'].apply(lambda name: name_count[name]) > 3"
   ]
  },
  {
   "cell_type": "code",
   "execution_count": 4,
   "metadata": {},
   "outputs": [
    {
     "name": "stdout",
     "output_type": "stream",
     "text": [
      "Number of datapoints in the train set: 165400\n",
      "Number of datapoints in the validation set: 4176\n",
      "Number of datapoints in the test set: 7621\n"
     ]
    }
   ],
   "source": [
    "train_set = photo_data.loc[train_index, ['photo_path', 'name', 'gender', 'age']].copy()\n",
    "train_set = shuffle(train_set, random_state=7532).drop(columns=['name']).reset_index(drop=True)\n",
    "print(f'Number of datapoints in the train set: {train_set.shape[0]}')\n",
    "\n",
    "valid_set = photo_data.loc[valid_index, ['photo_path', 'gender', 'age']].copy()\n",
    "valid_set = valid_set.reset_index(drop=True)\n",
    "print(f'Number of datapoints in the validation set: {valid_set.shape[0]}')\n",
    "\n",
    "test_set = photo_data.loc[test_index, ['photo_path', 'gender', 'age']].copy()\n",
    "test_set = test_set.reset_index(drop=True)\n",
    "print(f'Number of datapoints in the test set: {test_set.shape[0]}')"
   ]
  },
  {
   "cell_type": "markdown",
   "metadata": {},
   "source": [
    "**Gender distribution** <br>\n",
    "The train set is more balanced that the other two sets which happen to have almost identical gender distributions."
   ]
  },
  {
   "cell_type": "code",
   "execution_count": 5,
   "metadata": {},
   "outputs": [
    {
     "name": "stdout",
     "output_type": "stream",
     "text": [
      "Train set:\n",
      "1    54.34%\n",
      "0    45.66%\n",
      "Name: gender, dtype: object\n",
      "\n",
      "Validation set:\n",
      "1    61.83%\n",
      "0    38.17%\n",
      "Name: gender, dtype: object\n",
      "\n",
      "Test set:\n",
      "1    61.07%\n",
      "0    38.93%\n",
      "Name: gender, dtype: object\n"
     ]
    }
   ],
   "source": [
    "print('Train set:')\n",
    "print(train_set['gender'].value_counts(normalize=True)\\\n",
    "      .apply(lambda x: str(round(100*x, 2)) + '%'))\n",
    "print()\n",
    "\n",
    "print('Validation set:')\n",
    "print(valid_set['gender'].value_counts(normalize=True)\\\n",
    "      .apply(lambda x: str(round(100*x, 2)) + '%'))\n",
    "print()\n",
    "\n",
    "print('Test set:')\n",
    "print(test_set['gender'].value_counts(normalize=True)\\\n",
    "      .apply(lambda x: str(round(100*x, 2)) + '%'))"
   ]
  },
  {
   "cell_type": "markdown",
   "metadata": {},
   "source": [
    "**Age distribution** <br>\n",
    "The overall shape is roughly the same and all sets contain the whole chosen age spectrum. However, the validation and test sets share more similarities with one another than with the train set which has 'thiner tails'."
   ]
  },
  {
   "cell_type": "code",
   "execution_count": 6,
   "metadata": {},
   "outputs": [
    {
     "data": {
      "image/png": "[encoded data removed]",
      "text/plain": [
       "<Figure size 1080x360 with 3 Axes>"
      ]
     },
     "metadata": {
      "needs_background": "light"
     },
     "output_type": "display_data"
    }
   ],
   "source": [
    "fig, axs = plt.subplots(1, 3, figsize=(15, 5), sharex=True)\n",
    "axs[0].hist(train_set['age'], bins=60);\n",
    "axs[0].set_title('Train Set');\n",
    "axs[1].hist(valid_set['age'], bins=60);\n",
    "axs[1].set_title('Validation Set');\n",
    "axs[2].hist(test_set['age'], bins=60);\n",
    "axs[2].set_title('Test Set');"
   ]
  },
  {
   "cell_type": "markdown",
   "metadata": {},
   "source": [
    "## Train-Validation-Test Data Preparation (for Keras) ##"
   ]
  },
  {
   "cell_type": "code",
   "execution_count": 7,
   "metadata": {},
   "outputs": [],
   "source": [
    "PHOTO_DIR = 'imdb_crop/'"
   ]
  },
  {
   "cell_type": "markdown",
   "metadata": {},
   "source": [
    "It turns out that there are two more issues to contend with:\n",
    "- majority of the photos are in 3-dimensional (2 size dimensions plus 1 color dimension) but some of the photgraphs <br> are 2-dimensional (2 size dimensions only)\n",
    "- photo size is not the same for all photographs\n",
    "\n",
    "We deal with them by first converting 2D photos to 3D photos and then resizing the photos to size 320x320. Having done these steps, we save the resulting numpy arrays for further use. \n",
    "\n",
    "The validation and test photo sets are small enough to be handled in one go. However, the set of training photos is too large <br> and needs to be divided into a number of smaller sets. Due to memory constraints, we choose a partition into 20 sets."
   ]
  },
  {
   "cell_type": "code",
   "execution_count": 8,
   "metadata": {},
   "outputs": [],
   "source": [
    "def convert_to_3D(img):\n",
    "    \"\"\"Converts a 2D image to a 3D image.\"\"\"\n",
    "    \n",
    "    img_3D = np.zeros((img.shape[0], img.shape[1], 3), dtype=np.float32)       \n",
    "    img_3D[:,:,0], img_3D[:,:,1], img_3D[:,:,2] = img, img, img\n",
    "    \n",
    "    return img_3D \n",
    "\n",
    "\n",
    "def homogenize_images(img_path_series, img_dir=PHOTO_DIR, new_width=320, new_height=320):\n",
    "    \"\"\"Resizes images to new_width and new_height, converts 2D images to 2D images, \n",
    "       creates and returns an array of homogenized 3D images, and retuns 2D image count.\"\"\"\n",
    "    \n",
    "    #index = 0\n",
    "    count_2D = 0\n",
    "    \n",
    "    homogenized_image_array = []\n",
    "    \n",
    "    for img_name in img_path_series:        \n",
    "        img = plt.imread(img_dir + img_name)\n",
    "        \n",
    "        if (img.shape[0] == new_width) and (img.shape[1] == new_height):\n",
    "            img = (img / 255.0).astype(np.float32)\n",
    "        else:\n",
    "            # The resize function returns a float64 representation of an image\n",
    "            img = skimage.transform.resize(img, (new_width, new_height), \n",
    "                                           order=3, mode='reflect', \n",
    "                                           anti_aliasing=True).astype(np.float32)\n",
    "        \n",
    "        #new_img_name = img_name[:-4] + '_HMGD' + img_name[-4:]\n",
    "        \n",
    "        # Turn 2D images into 3D images\n",
    "        if img.ndim == 2:            \n",
    "            img = convert_to_3D(img)           \n",
    "            count_2D += 1\n",
    "        \n",
    "        #plt.imsave(img_dir + new_img_name, img_3D)\n",
    "        #img_path_series[index] = new_img_name\n",
    "        \n",
    "        #index += 1\n",
    "        \n",
    "        homogenized_image_array.append(img)\n",
    "    \n",
    "    homogenized_image_array = np.array(homogenized_image_array)\n",
    "        \n",
    "    return homogenized_image_array , count_2D"
   ]
  },
  {
   "cell_type": "code",
   "execution_count": 12,
   "metadata": {},
   "outputs": [
    {
     "name": "stdout",
     "output_type": "stream",
     "text": [
      "Validation set:\n",
      "Number of 2D photos converted to 3D: 418\n",
      "\n",
      "Test set:\n",
      "Number of 2D photos converted to 3D: 738\n",
      "\n",
      "Wall time: 21min 47s\n"
     ]
    }
   ],
   "source": [
    "%%time\n",
    "valid_set_hmgd, count_2D = homogenize_images(valid_set.loc[:, 'photo_path'])\n",
    "print('Validation set:')\n",
    "print(f'Number of 2D photos converted to 3D: {count_2D}')\n",
    "np.save('valid_set_hmgd_arr.npy' ,valid_set_hmgd)\n",
    "# free up memory\n",
    "valid_set_hmgd = None\n",
    "print()\n",
    "\n",
    "test_set_hmgd, count_2D = homogenize_images(test_set.loc[:, 'photo_path'])\n",
    "print('Test set:')\n",
    "print(f'Number of 2D photos converted to 3D: {count_2D}')\n",
    "np.save('test_set_hmgd_arr.npy' ,test_set_hmgd)\n",
    "# free up memory\n",
    "test_set_hmgd = None\n",
    "print()"
   ]
  },
  {
   "cell_type": "code",
   "execution_count": 9,
   "metadata": {},
   "outputs": [
    {
     "data": {
      "text/plain": [
       "array([     0,   8271,  16542,  24813,  33084,  41355,  49626,  57897,\n",
       "        66168,  74439,  82710,  90981,  99252, 107523, 115794, 124065,\n",
       "       132336, 140607, 148878, 157149, 165400])"
      ]
     },
     "execution_count": 9,
     "metadata": {},
     "output_type": "execute_result"
    }
   ],
   "source": [
    "N_PARTS = 20\n",
    "\n",
    "total_len = len(train_set)\n",
    "part_len = int(total_len / N_PARTS) + 1\n",
    "\n",
    "train_set_partition = np.arange(0, total_len + part_len, part_len)\n",
    "train_set_partition[-1] = total_len\n",
    "train_set_partition"
   ]
  },
  {
   "cell_type": "code",
   "execution_count": 10,
   "metadata": {},
   "outputs": [
    {
     "name": "stdout",
     "output_type": "stream",
     "text": [
      "Train set:\n",
      "Number of 2D photos converted to 3D: 6132\n",
      "\n",
      "Wall time: 4h 49min 47s\n"
     ]
    }
   ],
   "source": [
    "%%time\n",
    "count_2D = 0\n",
    "photo_path_position = train_set.columns.get_loc('photo_path')\n",
    "\n",
    "for i in range(N_PARTS):\n",
    "    subrange = range(train_set_partition[i], train_set_partition[i + 1])\n",
    "    train_set_hmgd, count = homogenize_images(train_set.iloc[subrange, photo_path_position])\n",
    "    np.save('train_set_hmgd_arr_' + str(i + 1).zfill(2) + '.npy' ,train_set_hmgd)   \n",
    "    # free up memory\n",
    "    train_set_hmgd = None\n",
    "    \n",
    "    count_2D += count\n",
    "\n",
    "    \n",
    "print('Train set:')\n",
    "print(f'Number of 2D photos converted to 3D: {count_2D}')\n",
    "print()"
   ]
  },
  {
   "cell_type": "markdown",
   "metadata": {},
   "source": [
    "Finally, we can save the train, validation and test sets of metadata as well as the train set partition details."
   ]
  },
  {
   "cell_type": "code",
   "execution_count": 11,
   "metadata": {},
   "outputs": [],
   "source": [
    "train_set.to_csv('train_set_metadata.csv', index=False)\n",
    "valid_set.to_csv('valid_set_metadata.csv', index=False)\n",
    "test_set.to_csv('test_set_metadata.csv', index=False)\n",
    "\n",
    "np.save('train_set_partition.npy', train_set_partition)"
   ]
  },
  {
   "cell_type": "code",
   "execution_count": null,
   "metadata": {},
   "outputs": [],
   "source": []
  }
 ],
 "metadata": {
  "kernelspec": {
   "display_name": "Python 3",
   "language": "python",
   "name": "python3"
  },
  "language_info": {
   "codemirror_mode": {
    "name": "ipython",
    "version": 3
   },
   "file_extension": ".py",
   "mimetype": "text/x-python",
   "name": "python",
   "nbconvert_exporter": "python",
   "pygments_lexer": "ipython3",
   "version": "3.6.7"
  }
 },
 "nbformat": 4,
 "nbformat_minor": 2
}
