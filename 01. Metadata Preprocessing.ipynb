{
 "cells": [
  {
   "cell_type": "code",
   "execution_count": 1,
   "metadata": {},
   "outputs": [],
   "source": [
    "import scipy.io\n",
    "import datetime\n",
    "import numpy as np\n",
    "import pandas as pd\n",
    "\n",
    "%matplotlib inline"
   ]
  },
  {
   "cell_type": "markdown",
   "metadata": {},
   "source": [
    "The file containing photo metadata is in MATLAB format."
   ]
  },
  {
   "cell_type": "code",
   "execution_count": 2,
   "metadata": {},
   "outputs": [],
   "source": [
    "matlab_file = scipy.io.loadmat('imdb_crop/imdb.mat')"
   ]
  },
  {
   "cell_type": "markdown",
   "metadata": {},
   "source": [
    "It is a dictionary with the following keys."
   ]
  },
  {
   "cell_type": "code",
   "execution_count": 3,
   "metadata": {},
   "outputs": [
    {
     "name": "stdout",
     "output_type": "stream",
     "text": [
      "<class 'dict'>\n"
     ]
    },
    {
     "data": {
      "text/plain": [
       "dict_keys(['__header__', '__version__', '__globals__', 'imdb'])"
      ]
     },
     "execution_count": 3,
     "metadata": {},
     "output_type": "execute_result"
    }
   ],
   "source": [
    "print(type(matlab_file))\n",
    "matlab_file.keys()"
   ]
  },
  {
   "cell_type": "markdown",
   "metadata": {},
   "source": [
    "Let's have a look at its contents."
   ]
  },
  {
   "cell_type": "code",
   "execution_count": 4,
   "metadata": {},
   "outputs": [
    {
     "data": {
      "text/plain": [
       "b'MATLAB 5.0 MAT-file, Platform: GLNXA64, Created on: Sun Jan 17 11:30:27 2016'"
      ]
     },
     "execution_count": 4,
     "metadata": {},
     "output_type": "execute_result"
    }
   ],
   "source": [
    "matlab_file['__header__']"
   ]
  },
  {
   "cell_type": "code",
   "execution_count": 5,
   "metadata": {},
   "outputs": [
    {
     "data": {
      "text/plain": [
       "'1.0'"
      ]
     },
     "execution_count": 5,
     "metadata": {},
     "output_type": "execute_result"
    }
   ],
   "source": [
    "matlab_file['__version__']"
   ]
  },
  {
   "cell_type": "code",
   "execution_count": 6,
   "metadata": {},
   "outputs": [
    {
     "data": {
      "text/plain": [
       "[]"
      ]
     },
     "execution_count": 6,
     "metadata": {},
     "output_type": "execute_result"
    }
   ],
   "source": [
    "matlab_file['__globals__']"
   ]
  },
  {
   "cell_type": "markdown",
   "metadata": {},
   "source": [
    "The most important field contains a numpy array with a non-standard composite type."
   ]
  },
  {
   "cell_type": "code",
   "execution_count": 7,
   "metadata": {},
   "outputs": [
    {
     "name": "stdout",
     "output_type": "stream",
     "text": [
      "<class 'numpy.ndarray'>\n"
     ]
    },
    {
     "data": {
      "text/plain": [
       "dtype([('dob', 'O'), ('photo_taken', 'O'), ('full_path', 'O'), ('gender', 'O'), ('name', 'O'), ('face_location', 'O'), ('face_score', 'O'), ('second_face_score', 'O'), ('celeb_names', 'O'), ('celeb_id', 'O')])"
      ]
     },
     "execution_count": 7,
     "metadata": {},
     "output_type": "execute_result"
    }
   ],
   "source": [
    "print(type(matlab_file['imdb']))\n",
    "matlab_file['imdb'].dtype"
   ]
  },
  {
   "cell_type": "markdown",
   "metadata": {},
   "source": [
    "According to the description on the website from which the data were downloaded the format is as follows: \n",
    "- **dob**: date of birth (MATLAB serial date number)\n",
    "- **photo_taken**: year when the photo was taken\n",
    "- **full_path**: path to file\n",
    "- **gender**: 0 for female and 1 for male, NaN if unknown\n",
    "- **name**: name of the celebrity\n",
    "- **face_location**: location of the face. \n",
    "- **face_score**: detector score (the higher the better). Inf implies that no face was found in the image and the face_location then just returns the entire image\n",
    "- **second_face_score**: detector score of the face with the second highest score. This is useful to ignore images with more than one face. second_face_score is NaN if no second face was detected.\n",
    "- **celeb_names** (IMDB only): list of all celebrity names\n",
    "- **celeb_id** (IMDB only): index of celebrity name\n"
   ]
  },
  {
   "cell_type": "markdown",
   "metadata": {},
   "source": [
    "**Metadata extraction and selection**"
   ]
  },
  {
   "cell_type": "code",
   "execution_count": 8,
   "metadata": {},
   "outputs": [],
   "source": [
    "metadata = matlab_file['imdb'][0, 0]"
   ]
  },
  {
   "cell_type": "code",
   "execution_count": 9,
   "metadata": {},
   "outputs": [
    {
     "data": {
      "text/plain": [
       "array([693726, 693726, 693726, ..., 726831, 726831, 726831])"
      ]
     },
     "execution_count": 9,
     "metadata": {},
     "output_type": "execute_result"
    }
   ],
   "source": [
    "date_of_birth = metadata[0][0]\n",
    "date_of_birth"
   ]
  },
  {
   "cell_type": "code",
   "execution_count": 10,
   "metadata": {},
   "outputs": [
    {
     "data": {
      "text/plain": [
       "array([1968, 1970, 1968, ..., 2011, 2011, 2011], dtype=uint16)"
      ]
     },
     "execution_count": 10,
     "metadata": {},
     "output_type": "execute_result"
    }
   ],
   "source": [
    "date_photo_taken = metadata[1][0]\n",
    "date_photo_taken"
   ]
  },
  {
   "cell_type": "code",
   "execution_count": 11,
   "metadata": {},
   "outputs": [
    {
     "data": {
      "text/plain": [
       "array([array(['01/nm0000001_rm124825600_1899-5-10_1968.jpg'], dtype='<U43'),\n",
       "       array(['01/nm0000001_rm3343756032_1899-5-10_1970.jpg'], dtype='<U44'),\n",
       "       array(['01/nm0000001_rm577153792_1899-5-10_1968.jpg'], dtype='<U43'),\n",
       "       ...,\n",
       "       array(['08/nm3994408_rm926592512_1989-12-29_2011.jpg'], dtype='<U44'),\n",
       "       array(['08/nm3994408_rm943369728_1989-12-29_2011.jpg'], dtype='<U44'),\n",
       "       array(['08/nm3994408_rm976924160_1989-12-29_2011.jpg'], dtype='<U44')],\n",
       "      dtype=object)"
      ]
     },
     "execution_count": 11,
     "metadata": {},
     "output_type": "execute_result"
    }
   ],
   "source": [
    "photo_path = metadata[2][0]\n",
    "photo_path"
   ]
  },
  {
   "cell_type": "code",
   "execution_count": 12,
   "metadata": {},
   "outputs": [
    {
     "data": {
      "text/plain": [
       "array([1., 1., 1., ..., 0., 0., 0.])"
      ]
     },
     "execution_count": 12,
     "metadata": {},
     "output_type": "execute_result"
    }
   ],
   "source": [
    "gender = metadata[3][0]\n",
    "gender"
   ]
  },
  {
   "cell_type": "code",
   "execution_count": 13,
   "metadata": {},
   "outputs": [
    {
     "data": {
      "text/plain": [
       "array([array(['Fred Astaire'], dtype='<U12'),\n",
       "       array(['Fred Astaire'], dtype='<U12'),\n",
       "       array(['Fred Astaire'], dtype='<U12'), ...,\n",
       "       array(['Jane Levy'], dtype='<U9'),\n",
       "       array(['Jane Levy'], dtype='<U9'),\n",
       "       array(['Jane Levy'], dtype='<U9')], dtype=object)"
      ]
     },
     "execution_count": 13,
     "metadata": {},
     "output_type": "execute_result"
    }
   ],
   "source": [
    "name = metadata[4][0]\n",
    "name"
   ]
  },
  {
   "cell_type": "code",
   "execution_count": 14,
   "metadata": {},
   "outputs": [
    {
     "data": {
      "text/plain": [
       "array([1.45969291, 2.5431976 , 3.45557949, ...,       -inf, 4.45072452,\n",
       "       2.13350269])"
      ]
     },
     "execution_count": 14,
     "metadata": {},
     "output_type": "execute_result"
    }
   ],
   "source": [
    "face_score = metadata[6][0]\n",
    "face_score"
   ]
  },
  {
   "cell_type": "code",
   "execution_count": 15,
   "metadata": {},
   "outputs": [
    {
     "data": {
      "text/plain": [
       "array([1.11897336, 1.85200773, 2.98566022, ...,        nan,        nan,\n",
       "              nan])"
      ]
     },
     "execution_count": 15,
     "metadata": {},
     "output_type": "execute_result"
    }
   ],
   "source": [
    "second_face_score = metadata[7][0]\n",
    "second_face_score"
   ]
  },
  {
   "cell_type": "markdown",
   "metadata": {},
   "source": [
    "We select the most relevant pieces of information."
   ]
  },
  {
   "cell_type": "code",
   "execution_count": 16,
   "metadata": {},
   "outputs": [
    {
     "data": {
      "text/html": [
       "<div>\n",
       "<style scoped>\n",
       "    .dataframe tbody tr th:only-of-type {\n",
       "        vertical-align: middle;\n",
       "    }\n",
       "\n",
       "    .dataframe tbody tr th {\n",
       "        vertical-align: top;\n",
       "    }\n",
       "\n",
       "    .dataframe thead th {\n",
       "        text-align: right;\n",
       "    }\n",
       "</style>\n",
       "<table border=\"1\" class=\"dataframe\">\n",
       "  <thead>\n",
       "    <tr style=\"text-align: right;\">\n",
       "      <th></th>\n",
       "      <th>date_of_birth</th>\n",
       "      <th>date_photo_taken</th>\n",
       "      <th>photo_path</th>\n",
       "      <th>name</th>\n",
       "      <th>gender</th>\n",
       "      <th>face_score</th>\n",
       "      <th>second_face_score</th>\n",
       "    </tr>\n",
       "  </thead>\n",
       "  <tbody>\n",
       "    <tr>\n",
       "      <th>0</th>\n",
       "      <td>693726</td>\n",
       "      <td>1968</td>\n",
       "      <td>[01/nm0000001_rm124825600_1899-5-10_1968.jpg]</td>\n",
       "      <td>[Fred Astaire]</td>\n",
       "      <td>1.0</td>\n",
       "      <td>1.459693</td>\n",
       "      <td>1.118973</td>\n",
       "    </tr>\n",
       "    <tr>\n",
       "      <th>1</th>\n",
       "      <td>693726</td>\n",
       "      <td>1970</td>\n",
       "      <td>[01/nm0000001_rm3343756032_1899-5-10_1970.jpg]</td>\n",
       "      <td>[Fred Astaire]</td>\n",
       "      <td>1.0</td>\n",
       "      <td>2.543198</td>\n",
       "      <td>1.852008</td>\n",
       "    </tr>\n",
       "    <tr>\n",
       "      <th>2</th>\n",
       "      <td>693726</td>\n",
       "      <td>1968</td>\n",
       "      <td>[01/nm0000001_rm577153792_1899-5-10_1968.jpg]</td>\n",
       "      <td>[Fred Astaire]</td>\n",
       "      <td>1.0</td>\n",
       "      <td>3.455579</td>\n",
       "      <td>2.985660</td>\n",
       "    </tr>\n",
       "    <tr>\n",
       "      <th>3</th>\n",
       "      <td>693726</td>\n",
       "      <td>1968</td>\n",
       "      <td>[01/nm0000001_rm946909184_1899-5-10_1968.jpg]</td>\n",
       "      <td>[Fred Astaire]</td>\n",
       "      <td>1.0</td>\n",
       "      <td>1.872117</td>\n",
       "      <td>NaN</td>\n",
       "    </tr>\n",
       "    <tr>\n",
       "      <th>4</th>\n",
       "      <td>693726</td>\n",
       "      <td>1968</td>\n",
       "      <td>[01/nm0000001_rm980463616_1899-5-10_1968.jpg]</td>\n",
       "      <td>[Fred Astaire]</td>\n",
       "      <td>1.0</td>\n",
       "      <td>1.158766</td>\n",
       "      <td>NaN</td>\n",
       "    </tr>\n",
       "  </tbody>\n",
       "</table>\n",
       "</div>"
      ],
      "text/plain": [
       "   date_of_birth  date_photo_taken  \\\n",
       "0         693726              1968   \n",
       "1         693726              1970   \n",
       "2         693726              1968   \n",
       "3         693726              1968   \n",
       "4         693726              1968   \n",
       "\n",
       "                                       photo_path            name  gender  \\\n",
       "0   [01/nm0000001_rm124825600_1899-5-10_1968.jpg]  [Fred Astaire]     1.0   \n",
       "1  [01/nm0000001_rm3343756032_1899-5-10_1970.jpg]  [Fred Astaire]     1.0   \n",
       "2   [01/nm0000001_rm577153792_1899-5-10_1968.jpg]  [Fred Astaire]     1.0   \n",
       "3   [01/nm0000001_rm946909184_1899-5-10_1968.jpg]  [Fred Astaire]     1.0   \n",
       "4   [01/nm0000001_rm980463616_1899-5-10_1968.jpg]  [Fred Astaire]     1.0   \n",
       "\n",
       "   face_score  second_face_score  \n",
       "0    1.459693           1.118973  \n",
       "1    2.543198           1.852008  \n",
       "2    3.455579           2.985660  \n",
       "3    1.872117                NaN  \n",
       "4    1.158766                NaN  "
      ]
     },
     "execution_count": 16,
     "metadata": {},
     "output_type": "execute_result"
    }
   ],
   "source": [
    "column_dict = {'date_of_birth': date_of_birth, \n",
    "               'date_photo_taken': date_photo_taken,\n",
    "               'photo_path': photo_path,\n",
    "               'name': name,\n",
    "               'gender': gender,\n",
    "               'face_score': face_score,\n",
    "               'second_face_score': second_face_score\n",
    "              }\n",
    "\n",
    "raw_photo_data = pd.DataFrame(column_dict)\n",
    "raw_photo_data.head()"
   ]
  },
  {
   "cell_type": "code",
   "execution_count": 17,
   "metadata": {},
   "outputs": [
    {
     "data": {
      "text/plain": [
       "460723"
      ]
     },
     "execution_count": 17,
     "metadata": {},
     "output_type": "execute_result"
    }
   ],
   "source": [
    "len(raw_photo_data)"
   ]
  },
  {
   "cell_type": "markdown",
   "metadata": {},
   "source": [
    "**Data Selection**"
   ]
  },
  {
   "cell_type": "markdown",
   "metadata": {},
   "source": [
    "1) Keep only those photos where a face was detected"
   ]
  },
  {
   "cell_type": "code",
   "execution_count": 18,
   "metadata": {},
   "outputs": [
    {
     "data": {
      "text/plain": [
       "398421"
      ]
     },
     "execution_count": 18,
     "metadata": {},
     "output_type": "execute_result"
    }
   ],
   "source": [
    "face_detected = np.isfinite(raw_photo_data['face_score'].values)\n",
    "raw_photo_data = raw_photo_data[face_detected]\n",
    "raw_photo_data = raw_photo_data.drop(columns='face_score')\n",
    "len(raw_photo_data)"
   ]
  },
  {
   "cell_type": "markdown",
   "metadata": {},
   "source": [
    "2) Keep only those photos where no second face was detected"
   ]
  },
  {
   "cell_type": "code",
   "execution_count": 19,
   "metadata": {},
   "outputs": [
    {
     "data": {
      "text/plain": [
       "184624"
      ]
     },
     "execution_count": 19,
     "metadata": {},
     "output_type": "execute_result"
    }
   ],
   "source": [
    "no_second_face_detected = raw_photo_data['second_face_score'].isnull()\n",
    "raw_photo_data = raw_photo_data[no_second_face_detected]\n",
    "raw_photo_data = raw_photo_data.drop(columns='second_face_score')\n",
    "len(raw_photo_data)"
   ]
  },
  {
   "cell_type": "markdown",
   "metadata": {},
   "source": [
    "3) Keep only those photos where gender is known"
   ]
  },
  {
   "cell_type": "code",
   "execution_count": 20,
   "metadata": {},
   "outputs": [
    {
     "data": {
      "text/plain": [
       "181690"
      ]
     },
     "execution_count": 20,
     "metadata": {},
     "output_type": "execute_result"
    }
   ],
   "source": [
    "gender_known = raw_photo_data['gender'].notnull()\n",
    "raw_photo_data = raw_photo_data[gender_known]\n",
    "raw_photo_data['gender'] = raw_photo_data['gender'].astype(np.uint8)\n",
    "len(raw_photo_data)"
   ]
  },
  {
   "cell_type": "markdown",
   "metadata": {},
   "source": [
    "Note that since the date of birth is given as a MATLAB serial date number we have to convert it to a more manageable form. Moreover, day one in MATLAB is January 1st 0000 while in python it is January 1st 0001. Hence, we will have to account for <br> the 0th leap year. But first, let's check that all of the serial date numbers are indeed integers."
   ]
  },
  {
   "cell_type": "code",
   "execution_count": 21,
   "metadata": {},
   "outputs": [
    {
     "data": {
      "text/plain": [
       "True"
      ]
     },
     "execution_count": 21,
     "metadata": {},
     "output_type": "execute_result"
    }
   ],
   "source": [
    "raw_photo_data['date_of_birth'].apply(lambda elem: int(elem) == elem).all()"
   ]
  },
  {
   "cell_type": "markdown",
   "metadata": {},
   "source": [
    "Second, observe that some of the **date_of_birth** values are way too small to be correct (for example, a value of 675000 implies that a person was born in 1849). We are going to deffer dealing with this issue until we compute the age of each person.  "
   ]
  },
  {
   "cell_type": "code",
   "execution_count": 22,
   "metadata": {},
   "outputs": [
    {
     "data": {
      "text/html": [
       "<div>\n",
       "<style scoped>\n",
       "    .dataframe tbody tr th:only-of-type {\n",
       "        vertical-align: middle;\n",
       "    }\n",
       "\n",
       "    .dataframe tbody tr th {\n",
       "        vertical-align: top;\n",
       "    }\n",
       "\n",
       "    .dataframe thead th {\n",
       "        text-align: right;\n",
       "    }\n",
       "</style>\n",
       "<table border=\"1\" class=\"dataframe\">\n",
       "  <thead>\n",
       "    <tr style=\"text-align: right;\">\n",
       "      <th></th>\n",
       "      <th>date_of_birth</th>\n",
       "      <th>date_photo_taken</th>\n",
       "      <th>photo_path</th>\n",
       "      <th>name</th>\n",
       "      <th>gender</th>\n",
       "    </tr>\n",
       "  </thead>\n",
       "  <tbody>\n",
       "    <tr>\n",
       "      <th>237005</th>\n",
       "      <td>75</td>\n",
       "      <td>2013</td>\n",
       "      <td>[14/nm0912414_rm2110498304_0-3-15_2013.jpg]</td>\n",
       "      <td>[Bree Michael Warner]</td>\n",
       "      <td>0</td>\n",
       "    </tr>\n",
       "    <tr>\n",
       "      <th>237004</th>\n",
       "      <td>75</td>\n",
       "      <td>2013</td>\n",
       "      <td>[14/nm0912414_rm2029561344_0-3-15_2013.jpg]</td>\n",
       "      <td>[Bree Michael Warner]</td>\n",
       "      <td>0</td>\n",
       "    </tr>\n",
       "    <tr>\n",
       "      <th>324170</th>\n",
       "      <td>175</td>\n",
       "      <td>2014</td>\n",
       "      <td>[41/nm2749141_rm1023657472_0-6-23_2014.jpg]</td>\n",
       "      <td>[Wendy McColm]</td>\n",
       "      <td>0</td>\n",
       "    </tr>\n",
       "    <tr>\n",
       "      <th>324176</th>\n",
       "      <td>175</td>\n",
       "      <td>2013</td>\n",
       "      <td>[41/nm2749141_rm4078689280_0-6-23_2013.jpg]</td>\n",
       "      <td>[Wendy McColm]</td>\n",
       "      <td>0</td>\n",
       "    </tr>\n",
       "    <tr>\n",
       "      <th>324174</th>\n",
       "      <td>175</td>\n",
       "      <td>2015</td>\n",
       "      <td>[41/nm2749141_rm2952003072_0-6-23_2015.jpg]</td>\n",
       "      <td>[Wendy McColm]</td>\n",
       "      <td>0</td>\n",
       "    </tr>\n",
       "  </tbody>\n",
       "</table>\n",
       "</div>"
      ],
      "text/plain": [
       "        date_of_birth  date_photo_taken  \\\n",
       "237005             75              2013   \n",
       "237004             75              2013   \n",
       "324170            175              2014   \n",
       "324176            175              2013   \n",
       "324174            175              2015   \n",
       "\n",
       "                                         photo_path                   name  \\\n",
       "237005  [14/nm0912414_rm2110498304_0-3-15_2013.jpg]  [Bree Michael Warner]   \n",
       "237004  [14/nm0912414_rm2029561344_0-3-15_2013.jpg]  [Bree Michael Warner]   \n",
       "324170  [41/nm2749141_rm1023657472_0-6-23_2014.jpg]         [Wendy McColm]   \n",
       "324176  [41/nm2749141_rm4078689280_0-6-23_2013.jpg]         [Wendy McColm]   \n",
       "324174  [41/nm2749141_rm2952003072_0-6-23_2015.jpg]         [Wendy McColm]   \n",
       "\n",
       "        gender  \n",
       "237005       0  \n",
       "237004       0  \n",
       "324170       0  \n",
       "324176       0  \n",
       "324174       0  "
      ]
     },
     "execution_count": 22,
     "metadata": {},
     "output_type": "execute_result"
    }
   ],
   "source": [
    "raw_photo_data.sort_values(by='date_of_birth').head()"
   ]
  },
  {
   "cell_type": "markdown",
   "metadata": {},
   "source": [
    "Convert *date_of_birth* to actual date."
   ]
  },
  {
   "cell_type": "code",
   "execution_count": 23,
   "metadata": {},
   "outputs": [],
   "source": [
    "def datenum_to_date(datenum):\n",
    "    \"\"\"Convert MATLAB serial date number to a date.\"\"\"\n",
    "    adjusted_datenum = datenum - 366\n",
    "    return datetime.date.fromordinal(adjusted_datenum)\n",
    "\n",
    "datenum_to_date_vectorized = np.vectorize(datenum_to_date)"
   ]
  },
  {
   "cell_type": "code",
   "execution_count": 24,
   "metadata": {},
   "outputs": [
    {
     "data": {
      "text/html": [
       "<div>\n",
       "<style scoped>\n",
       "    .dataframe tbody tr th:only-of-type {\n",
       "        vertical-align: middle;\n",
       "    }\n",
       "\n",
       "    .dataframe tbody tr th {\n",
       "        vertical-align: top;\n",
       "    }\n",
       "\n",
       "    .dataframe thead th {\n",
       "        text-align: right;\n",
       "    }\n",
       "</style>\n",
       "<table border=\"1\" class=\"dataframe\">\n",
       "  <thead>\n",
       "    <tr style=\"text-align: right;\">\n",
       "      <th></th>\n",
       "      <th>date_of_birth</th>\n",
       "      <th>date_photo_taken</th>\n",
       "      <th>photo_path</th>\n",
       "      <th>name</th>\n",
       "      <th>gender</th>\n",
       "    </tr>\n",
       "  </thead>\n",
       "  <tbody>\n",
       "    <tr>\n",
       "      <th>3</th>\n",
       "      <td>1899-05-10</td>\n",
       "      <td>1968</td>\n",
       "      <td>[01/nm0000001_rm946909184_1899-5-10_1968.jpg]</td>\n",
       "      <td>[Fred Astaire]</td>\n",
       "      <td>1</td>\n",
       "    </tr>\n",
       "    <tr>\n",
       "      <th>4</th>\n",
       "      <td>1899-05-10</td>\n",
       "      <td>1968</td>\n",
       "      <td>[01/nm0000001_rm980463616_1899-5-10_1968.jpg]</td>\n",
       "      <td>[Fred Astaire]</td>\n",
       "      <td>1</td>\n",
       "    </tr>\n",
       "    <tr>\n",
       "      <th>6</th>\n",
       "      <td>1924-09-16</td>\n",
       "      <td>2004</td>\n",
       "      <td>[02/nm0000002_rm1346607872_1924-9-16_2004.jpg]</td>\n",
       "      <td>[Lauren Bacall]</td>\n",
       "      <td>0</td>\n",
       "    </tr>\n",
       "    <tr>\n",
       "      <th>7</th>\n",
       "      <td>1924-09-16</td>\n",
       "      <td>2004</td>\n",
       "      <td>[02/nm0000002_rm1363385088_1924-9-16_2004.jpg]</td>\n",
       "      <td>[Lauren Bacall]</td>\n",
       "      <td>0</td>\n",
       "    </tr>\n",
       "    <tr>\n",
       "      <th>12</th>\n",
       "      <td>1924-09-16</td>\n",
       "      <td>1974</td>\n",
       "      <td>[02/nm0000002_rm221957120_1924-9-16_1974.jpg]</td>\n",
       "      <td>[Lauren Bacall]</td>\n",
       "      <td>0</td>\n",
       "    </tr>\n",
       "  </tbody>\n",
       "</table>\n",
       "</div>"
      ],
      "text/plain": [
       "   date_of_birth  date_photo_taken  \\\n",
       "3     1899-05-10              1968   \n",
       "4     1899-05-10              1968   \n",
       "6     1924-09-16              2004   \n",
       "7     1924-09-16              2004   \n",
       "12    1924-09-16              1974   \n",
       "\n",
       "                                        photo_path             name  gender  \n",
       "3    [01/nm0000001_rm946909184_1899-5-10_1968.jpg]   [Fred Astaire]       1  \n",
       "4    [01/nm0000001_rm980463616_1899-5-10_1968.jpg]   [Fred Astaire]       1  \n",
       "6   [02/nm0000002_rm1346607872_1924-9-16_2004.jpg]  [Lauren Bacall]       0  \n",
       "7   [02/nm0000002_rm1363385088_1924-9-16_2004.jpg]  [Lauren Bacall]       0  \n",
       "12   [02/nm0000002_rm221957120_1924-9-16_1974.jpg]  [Lauren Bacall]       0  "
      ]
     },
     "execution_count": 24,
     "metadata": {},
     "output_type": "execute_result"
    }
   ],
   "source": [
    "# Increase small values of date_of_birth for technical reasons, \n",
    "# eventually we are going to remove such records anyway\n",
    "raw_photo_data.loc[raw_photo_data['date_of_birth'] < 367, 'date_of_birth'] = 367\n",
    "\n",
    "# Convert\n",
    "raw_photo_data['date_of_birth'] = datenum_to_date_vectorized(raw_photo_data['date_of_birth'])\n",
    "raw_photo_data.head()"
   ]
  },
  {
   "cell_type": "markdown",
   "metadata": {},
   "source": [
    "According to the website from which the data were downloaded it is assumed that pictures were taken in the middle of the year (1st of July). Hence, we proceed accordingly, first converting **date_photo_taken** to actual date."
   ]
  },
  {
   "cell_type": "code",
   "execution_count": 25,
   "metadata": {},
   "outputs": [
    {
     "data": {
      "text/html": [
       "<div>\n",
       "<style scoped>\n",
       "    .dataframe tbody tr th:only-of-type {\n",
       "        vertical-align: middle;\n",
       "    }\n",
       "\n",
       "    .dataframe tbody tr th {\n",
       "        vertical-align: top;\n",
       "    }\n",
       "\n",
       "    .dataframe thead th {\n",
       "        text-align: right;\n",
       "    }\n",
       "</style>\n",
       "<table border=\"1\" class=\"dataframe\">\n",
       "  <thead>\n",
       "    <tr style=\"text-align: right;\">\n",
       "      <th></th>\n",
       "      <th>date_of_birth</th>\n",
       "      <th>date_photo_taken</th>\n",
       "      <th>photo_path</th>\n",
       "      <th>name</th>\n",
       "      <th>gender</th>\n",
       "    </tr>\n",
       "  </thead>\n",
       "  <tbody>\n",
       "    <tr>\n",
       "      <th>3</th>\n",
       "      <td>1899-05-10</td>\n",
       "      <td>1968-07-01</td>\n",
       "      <td>[01/nm0000001_rm946909184_1899-5-10_1968.jpg]</td>\n",
       "      <td>[Fred Astaire]</td>\n",
       "      <td>1</td>\n",
       "    </tr>\n",
       "    <tr>\n",
       "      <th>4</th>\n",
       "      <td>1899-05-10</td>\n",
       "      <td>1968-07-01</td>\n",
       "      <td>[01/nm0000001_rm980463616_1899-5-10_1968.jpg]</td>\n",
       "      <td>[Fred Astaire]</td>\n",
       "      <td>1</td>\n",
       "    </tr>\n",
       "    <tr>\n",
       "      <th>6</th>\n",
       "      <td>1924-09-16</td>\n",
       "      <td>2004-07-01</td>\n",
       "      <td>[02/nm0000002_rm1346607872_1924-9-16_2004.jpg]</td>\n",
       "      <td>[Lauren Bacall]</td>\n",
       "      <td>0</td>\n",
       "    </tr>\n",
       "    <tr>\n",
       "      <th>7</th>\n",
       "      <td>1924-09-16</td>\n",
       "      <td>2004-07-01</td>\n",
       "      <td>[02/nm0000002_rm1363385088_1924-9-16_2004.jpg]</td>\n",
       "      <td>[Lauren Bacall]</td>\n",
       "      <td>0</td>\n",
       "    </tr>\n",
       "    <tr>\n",
       "      <th>12</th>\n",
       "      <td>1924-09-16</td>\n",
       "      <td>1974-07-01</td>\n",
       "      <td>[02/nm0000002_rm221957120_1924-9-16_1974.jpg]</td>\n",
       "      <td>[Lauren Bacall]</td>\n",
       "      <td>0</td>\n",
       "    </tr>\n",
       "  </tbody>\n",
       "</table>\n",
       "</div>"
      ],
      "text/plain": [
       "   date_of_birth date_photo_taken  \\\n",
       "3     1899-05-10       1968-07-01   \n",
       "4     1899-05-10       1968-07-01   \n",
       "6     1924-09-16       2004-07-01   \n",
       "7     1924-09-16       2004-07-01   \n",
       "12    1924-09-16       1974-07-01   \n",
       "\n",
       "                                        photo_path             name  gender  \n",
       "3    [01/nm0000001_rm946909184_1899-5-10_1968.jpg]   [Fred Astaire]       1  \n",
       "4    [01/nm0000001_rm980463616_1899-5-10_1968.jpg]   [Fred Astaire]       1  \n",
       "6   [02/nm0000002_rm1346607872_1924-9-16_2004.jpg]  [Lauren Bacall]       0  \n",
       "7   [02/nm0000002_rm1363385088_1924-9-16_2004.jpg]  [Lauren Bacall]       0  \n",
       "12   [02/nm0000002_rm221957120_1924-9-16_1974.jpg]  [Lauren Bacall]       0  "
      ]
     },
     "execution_count": 25,
     "metadata": {},
     "output_type": "execute_result"
    }
   ],
   "source": [
    "raw_photo_data['date_photo_taken'] = \\\n",
    "    raw_photo_data['date_photo_taken'].apply(lambda year: datetime.date(year, 7, 1))\n",
    "\n",
    "raw_photo_data.head()"
   ]
  },
  {
   "cell_type": "markdown",
   "metadata": {},
   "source": [
    "Now, we are ready to compute each person's age."
   ]
  },
  {
   "cell_type": "code",
   "execution_count": 26,
   "metadata": {},
   "outputs": [],
   "source": [
    "def calculate_age(date_of_birth, reference_date):\n",
    "    age = reference_date.year - date_of_birth.year\n",
    "    \n",
    "    condition_1 = reference_date.month < date_of_birth.month\n",
    "    condition_2a = reference_date.month == date_of_birth.month\n",
    "    condition_2b = reference_date.day < date_of_birth.day\n",
    "    condition_2 = condition_2a and condition_2b\n",
    "    \n",
    "    if condition_1 or condition_2:\n",
    "        age -= 1\n",
    "        \n",
    "    return age\n",
    "\n",
    "calculate_age_vectorized = np.vectorize(calculate_age)"
   ]
  },
  {
   "cell_type": "code",
   "execution_count": 27,
   "metadata": {},
   "outputs": [
    {
     "data": {
      "text/html": [
       "<div>\n",
       "<style scoped>\n",
       "    .dataframe tbody tr th:only-of-type {\n",
       "        vertical-align: middle;\n",
       "    }\n",
       "\n",
       "    .dataframe tbody tr th {\n",
       "        vertical-align: top;\n",
       "    }\n",
       "\n",
       "    .dataframe thead th {\n",
       "        text-align: right;\n",
       "    }\n",
       "</style>\n",
       "<table border=\"1\" class=\"dataframe\">\n",
       "  <thead>\n",
       "    <tr style=\"text-align: right;\">\n",
       "      <th></th>\n",
       "      <th>date_of_birth</th>\n",
       "      <th>date_photo_taken</th>\n",
       "      <th>photo_path</th>\n",
       "      <th>name</th>\n",
       "      <th>gender</th>\n",
       "      <th>age</th>\n",
       "    </tr>\n",
       "  </thead>\n",
       "  <tbody>\n",
       "    <tr>\n",
       "      <th>3</th>\n",
       "      <td>1899-05-10</td>\n",
       "      <td>1968-07-01</td>\n",
       "      <td>[01/nm0000001_rm946909184_1899-5-10_1968.jpg]</td>\n",
       "      <td>[Fred Astaire]</td>\n",
       "      <td>1</td>\n",
       "      <td>69</td>\n",
       "    </tr>\n",
       "    <tr>\n",
       "      <th>4</th>\n",
       "      <td>1899-05-10</td>\n",
       "      <td>1968-07-01</td>\n",
       "      <td>[01/nm0000001_rm980463616_1899-5-10_1968.jpg]</td>\n",
       "      <td>[Fred Astaire]</td>\n",
       "      <td>1</td>\n",
       "      <td>69</td>\n",
       "    </tr>\n",
       "    <tr>\n",
       "      <th>6</th>\n",
       "      <td>1924-09-16</td>\n",
       "      <td>2004-07-01</td>\n",
       "      <td>[02/nm0000002_rm1346607872_1924-9-16_2004.jpg]</td>\n",
       "      <td>[Lauren Bacall]</td>\n",
       "      <td>0</td>\n",
       "      <td>79</td>\n",
       "    </tr>\n",
       "    <tr>\n",
       "      <th>7</th>\n",
       "      <td>1924-09-16</td>\n",
       "      <td>2004-07-01</td>\n",
       "      <td>[02/nm0000002_rm1363385088_1924-9-16_2004.jpg]</td>\n",
       "      <td>[Lauren Bacall]</td>\n",
       "      <td>0</td>\n",
       "      <td>79</td>\n",
       "    </tr>\n",
       "    <tr>\n",
       "      <th>12</th>\n",
       "      <td>1924-09-16</td>\n",
       "      <td>1974-07-01</td>\n",
       "      <td>[02/nm0000002_rm221957120_1924-9-16_1974.jpg]</td>\n",
       "      <td>[Lauren Bacall]</td>\n",
       "      <td>0</td>\n",
       "      <td>49</td>\n",
       "    </tr>\n",
       "  </tbody>\n",
       "</table>\n",
       "</div>"
      ],
      "text/plain": [
       "   date_of_birth date_photo_taken  \\\n",
       "3     1899-05-10       1968-07-01   \n",
       "4     1899-05-10       1968-07-01   \n",
       "6     1924-09-16       2004-07-01   \n",
       "7     1924-09-16       2004-07-01   \n",
       "12    1924-09-16       1974-07-01   \n",
       "\n",
       "                                        photo_path             name  gender  \\\n",
       "3    [01/nm0000001_rm946909184_1899-5-10_1968.jpg]   [Fred Astaire]       1   \n",
       "4    [01/nm0000001_rm980463616_1899-5-10_1968.jpg]   [Fred Astaire]       1   \n",
       "6   [02/nm0000002_rm1346607872_1924-9-16_2004.jpg]  [Lauren Bacall]       0   \n",
       "7   [02/nm0000002_rm1363385088_1924-9-16_2004.jpg]  [Lauren Bacall]       0   \n",
       "12   [02/nm0000002_rm221957120_1924-9-16_1974.jpg]  [Lauren Bacall]       0   \n",
       "\n",
       "    age  \n",
       "3    69  \n",
       "4    69  \n",
       "6    79  \n",
       "7    79  \n",
       "12   49  "
      ]
     },
     "execution_count": 27,
     "metadata": {},
     "output_type": "execute_result"
    }
   ],
   "source": [
    "raw_photo_data['age'] = calculate_age_vectorized(raw_photo_data['date_of_birth'], \n",
    "                                                 raw_photo_data['date_photo_taken'])\n",
    "\n",
    "raw_photo_data.head()"
   ]
  },
  {
   "cell_type": "markdown",
   "metadata": {},
   "source": [
    "The **age** column exibits undesired behavior - some values are too large (which has already been anticipated) while other values are negative, most likely due to incorect recording of the year in which corresponding photos were taken. These issues will be taken care of by restricting our attention to age values for which there are sufficiently many records, say approximately 400."
   ]
  },
  {
   "cell_type": "code",
   "execution_count": 28,
   "metadata": {},
   "outputs": [
    {
     "data": {
      "text/plain": [
       "70     398\n",
       "68     453\n",
       "69     494\n",
       "66     511\n",
       "67     575\n",
       "11     623\n",
       "12     635\n",
       "64     770\n",
       "65     799\n",
       "13     813\n",
       "14     844\n",
       "62     871\n",
       "63     929\n",
       "61     937\n",
       "15    1032\n",
       "16    1089\n",
       "60    1100\n",
       "57    1234\n",
       "56    1261\n",
       "59    1279\n",
       "17    1306\n",
       "58    1347\n",
       "55    1351\n",
       "18    1654\n",
       "53    1657\n",
       "54    1756\n",
       "52    1948\n",
       "51    2205\n",
       "50    2220\n",
       "19    2326\n",
       "49    2511\n",
       "48    2622\n",
       "47    2935\n",
       "20    3072\n",
       "46    3219\n",
       "21    3315\n",
       "22    3546\n",
       "44    3565\n",
       "23    3960\n",
       "43    4099\n",
       "45    4105\n",
       "42    4314\n",
       "40    4541\n",
       "41    4757\n",
       "25    4826\n",
       "24    4875\n",
       "27    5245\n",
       "26    5251\n",
       "39    5486\n",
       "37    5550\n",
       "28    5626\n",
       "38    5764\n",
       "34    5816\n",
       "33    6026\n",
       "36    6038\n",
       "29    6090\n",
       "35    6122\n",
       "32    6270\n",
       "30    6571\n",
       "31    6663\n",
       "Name: age, dtype: int64"
      ]
     },
     "execution_count": 28,
     "metadata": {},
     "output_type": "execute_result"
    }
   ],
   "source": [
    "value_count_threshold = 397\n",
    "\n",
    "ample_age_records = raw_photo_data['age'].value_counts() > value_count_threshold\n",
    "raw_photo_data['age'].value_counts()[ample_age_records].sort_values()"
   ]
  },
  {
   "cell_type": "markdown",
   "metadata": {},
   "source": [
    "The above restriction limits available age values to those ranging from 11 to 70."
   ]
  },
  {
   "cell_type": "code",
   "execution_count": 29,
   "metadata": {},
   "outputs": [
    {
     "data": {
      "text/plain": [
       "array([11, 12, 13, 14, 15, 16, 17, 18, 19, 20, 21, 22, 23, 24, 25, 26, 27,\n",
       "       28, 29, 30, 31, 32, 33, 34, 35, 36, 37, 38, 39, 40, 41, 42, 43, 44,\n",
       "       45, 46, 47, 48, 49, 50, 51, 52, 53, 54, 55, 56, 57, 58, 59, 60, 61,\n",
       "       62, 63, 64, 65, 66, 67, 68, 69, 70], dtype=int64)"
      ]
     },
     "execution_count": 29,
     "metadata": {},
     "output_type": "execute_result"
    }
   ],
   "source": [
    "np.sort(raw_photo_data['age'].value_counts()[ample_age_records].sort_values().index.values)"
   ]
  },
  {
   "cell_type": "markdown",
   "metadata": {},
   "source": [
    "It is somewhat unfortunate, but pretty much unavoidable, that after all these steps the length of our dataset has shrunk to less than half of its original size as we are left with little more than 177000 data points."
   ]
  },
  {
   "cell_type": "code",
   "execution_count": 30,
   "metadata": {},
   "outputs": [
    {
     "data": {
      "text/plain": [
       "177197"
      ]
     },
     "execution_count": 30,
     "metadata": {},
     "output_type": "execute_result"
    }
   ],
   "source": [
    "raw_photo_data = raw_photo_data.loc[raw_photo_data['age'].between(11, 70), :]\n",
    "raw_photo_data['age'] = raw_photo_data['age'].astype(np.uint8)\n",
    "len(raw_photo_data)"
   ]
  },
  {
   "cell_type": "markdown",
   "metadata": {},
   "source": [
    "On the bright side, it can be seen that the gender distribution is roughly balanced."
   ]
  },
  {
   "cell_type": "code",
   "execution_count": 31,
   "metadata": {},
   "outputs": [
    {
     "name": "stdout",
     "output_type": "stream",
     "text": [
      "1    54.8%\n",
      "0    45.2%\n",
      "Name: gender, dtype: object\n"
     ]
    }
   ],
   "source": [
    "print(raw_photo_data['gender'].value_counts(normalize=True)\\\n",
    "      .apply(lambda x: str(round(100*x, 2)) + '%'))"
   ]
  },
  {
   "cell_type": "markdown",
   "metadata": {},
   "source": [
    "Before selecting the data we are going to use further, let's reformat the **photo_path** and **name** columns and reindex the entire DataFrame."
   ]
  },
  {
   "cell_type": "code",
   "execution_count": 32,
   "metadata": {},
   "outputs": [
    {
     "data": {
      "text/html": [
       "<div>\n",
       "<style scoped>\n",
       "    .dataframe tbody tr th:only-of-type {\n",
       "        vertical-align: middle;\n",
       "    }\n",
       "\n",
       "    .dataframe tbody tr th {\n",
       "        vertical-align: top;\n",
       "    }\n",
       "\n",
       "    .dataframe thead th {\n",
       "        text-align: right;\n",
       "    }\n",
       "</style>\n",
       "<table border=\"1\" class=\"dataframe\">\n",
       "  <thead>\n",
       "    <tr style=\"text-align: right;\">\n",
       "      <th></th>\n",
       "      <th>date_of_birth</th>\n",
       "      <th>date_photo_taken</th>\n",
       "      <th>photo_path</th>\n",
       "      <th>name</th>\n",
       "      <th>gender</th>\n",
       "      <th>age</th>\n",
       "    </tr>\n",
       "  </thead>\n",
       "  <tbody>\n",
       "    <tr>\n",
       "      <th>0</th>\n",
       "      <td>1899-05-10</td>\n",
       "      <td>1968-07-01</td>\n",
       "      <td>01/nm0000001_rm946909184_1899-5-10_1968.jpg</td>\n",
       "      <td>Fred Astaire</td>\n",
       "      <td>1</td>\n",
       "      <td>69</td>\n",
       "    </tr>\n",
       "    <tr>\n",
       "      <th>1</th>\n",
       "      <td>1899-05-10</td>\n",
       "      <td>1968-07-01</td>\n",
       "      <td>01/nm0000001_rm980463616_1899-5-10_1968.jpg</td>\n",
       "      <td>Fred Astaire</td>\n",
       "      <td>1</td>\n",
       "      <td>69</td>\n",
       "    </tr>\n",
       "    <tr>\n",
       "      <th>2</th>\n",
       "      <td>1924-09-16</td>\n",
       "      <td>1974-07-01</td>\n",
       "      <td>02/nm0000002_rm221957120_1924-9-16_1974.jpg</td>\n",
       "      <td>Lauren Bacall</td>\n",
       "      <td>0</td>\n",
       "      <td>49</td>\n",
       "    </tr>\n",
       "    <tr>\n",
       "      <th>3</th>\n",
       "      <td>1924-09-16</td>\n",
       "      <td>1974-07-01</td>\n",
       "      <td>02/nm0000002_rm238734336_1924-9-16_1974.jpg</td>\n",
       "      <td>Lauren Bacall</td>\n",
       "      <td>0</td>\n",
       "      <td>49</td>\n",
       "    </tr>\n",
       "    <tr>\n",
       "      <th>4</th>\n",
       "      <td>1924-09-16</td>\n",
       "      <td>1991-07-01</td>\n",
       "      <td>02/nm0000002_rm370988544_1924-9-16_1991.jpg</td>\n",
       "      <td>Lauren Bacall</td>\n",
       "      <td>0</td>\n",
       "      <td>66</td>\n",
       "    </tr>\n",
       "  </tbody>\n",
       "</table>\n",
       "</div>"
      ],
      "text/plain": [
       "  date_of_birth date_photo_taken                                   photo_path  \\\n",
       "0    1899-05-10       1968-07-01  01/nm0000001_rm946909184_1899-5-10_1968.jpg   \n",
       "1    1899-05-10       1968-07-01  01/nm0000001_rm980463616_1899-5-10_1968.jpg   \n",
       "2    1924-09-16       1974-07-01  02/nm0000002_rm221957120_1924-9-16_1974.jpg   \n",
       "3    1924-09-16       1974-07-01  02/nm0000002_rm238734336_1924-9-16_1974.jpg   \n",
       "4    1924-09-16       1991-07-01  02/nm0000002_rm370988544_1924-9-16_1991.jpg   \n",
       "\n",
       "            name  gender  age  \n",
       "0   Fred Astaire       1   69  \n",
       "1   Fred Astaire       1   69  \n",
       "2  Lauren Bacall       0   49  \n",
       "3  Lauren Bacall       0   49  \n",
       "4  Lauren Bacall       0   66  "
      ]
     },
     "execution_count": 32,
     "metadata": {},
     "output_type": "execute_result"
    }
   ],
   "source": [
    "for column in ['photo_path', 'name']:\n",
    "    raw_photo_data[column] = raw_photo_data[column].apply(lambda elem: elem[0]).values\n",
    "\n",
    "raw_photo_data = raw_photo_data.reset_index(drop=True)   \n",
    "raw_photo_data.head()"
   ]
  },
  {
   "cell_type": "markdown",
   "metadata": {},
   "source": [
    "Now, we can make our final selection of data..."
   ]
  },
  {
   "cell_type": "code",
   "execution_count": 33,
   "metadata": {},
   "outputs": [
    {
     "data": {
      "text/html": [
       "<div>\n",
       "<style scoped>\n",
       "    .dataframe tbody tr th:only-of-type {\n",
       "        vertical-align: middle;\n",
       "    }\n",
       "\n",
       "    .dataframe tbody tr th {\n",
       "        vertical-align: top;\n",
       "    }\n",
       "\n",
       "    .dataframe thead th {\n",
       "        text-align: right;\n",
       "    }\n",
       "</style>\n",
       "<table border=\"1\" class=\"dataframe\">\n",
       "  <thead>\n",
       "    <tr style=\"text-align: right;\">\n",
       "      <th></th>\n",
       "      <th>photo_path</th>\n",
       "      <th>name</th>\n",
       "      <th>gender</th>\n",
       "      <th>age</th>\n",
       "    </tr>\n",
       "  </thead>\n",
       "  <tbody>\n",
       "    <tr>\n",
       "      <th>0</th>\n",
       "      <td>01/nm0000001_rm946909184_1899-5-10_1968.jpg</td>\n",
       "      <td>Fred Astaire</td>\n",
       "      <td>1</td>\n",
       "      <td>69</td>\n",
       "    </tr>\n",
       "    <tr>\n",
       "      <th>1</th>\n",
       "      <td>01/nm0000001_rm980463616_1899-5-10_1968.jpg</td>\n",
       "      <td>Fred Astaire</td>\n",
       "      <td>1</td>\n",
       "      <td>69</td>\n",
       "    </tr>\n",
       "    <tr>\n",
       "      <th>2</th>\n",
       "      <td>02/nm0000002_rm221957120_1924-9-16_1974.jpg</td>\n",
       "      <td>Lauren Bacall</td>\n",
       "      <td>0</td>\n",
       "      <td>49</td>\n",
       "    </tr>\n",
       "    <tr>\n",
       "      <th>3</th>\n",
       "      <td>02/nm0000002_rm238734336_1924-9-16_1974.jpg</td>\n",
       "      <td>Lauren Bacall</td>\n",
       "      <td>0</td>\n",
       "      <td>49</td>\n",
       "    </tr>\n",
       "    <tr>\n",
       "      <th>4</th>\n",
       "      <td>02/nm0000002_rm370988544_1924-9-16_1991.jpg</td>\n",
       "      <td>Lauren Bacall</td>\n",
       "      <td>0</td>\n",
       "      <td>66</td>\n",
       "    </tr>\n",
       "  </tbody>\n",
       "</table>\n",
       "</div>"
      ],
      "text/plain": [
       "                                    photo_path           name  gender  age\n",
       "0  01/nm0000001_rm946909184_1899-5-10_1968.jpg   Fred Astaire       1   69\n",
       "1  01/nm0000001_rm980463616_1899-5-10_1968.jpg   Fred Astaire       1   69\n",
       "2  02/nm0000002_rm221957120_1924-9-16_1974.jpg  Lauren Bacall       0   49\n",
       "3  02/nm0000002_rm238734336_1924-9-16_1974.jpg  Lauren Bacall       0   49\n",
       "4  02/nm0000002_rm370988544_1924-9-16_1991.jpg  Lauren Bacall       0   66"
      ]
     },
     "execution_count": 33,
     "metadata": {},
     "output_type": "execute_result"
    }
   ],
   "source": [
    "processed_photo_data = raw_photo_data.loc[:, ['photo_path', 'name', 'gender', 'age']].copy()\n",
    "processed_photo_data.head()"
   ]
  },
  {
   "cell_type": "markdown",
   "metadata": {},
   "source": [
    "...and save the resulting dataset."
   ]
  },
  {
   "cell_type": "code",
   "execution_count": 34,
   "metadata": {},
   "outputs": [],
   "source": [
    "processed_photo_data.to_csv('processed_photo_metadata.csv', index=False)"
   ]
  },
  {
   "cell_type": "code",
   "execution_count": null,
   "metadata": {},
   "outputs": [],
   "source": []
  }
 ],
 "metadata": {
  "kernelspec": {
   "display_name": "Python 3",
   "language": "python",
   "name": "python3"
  },
  "language_info": {
   "codemirror_mode": {
    "name": "ipython",
    "version": 3
   },
   "file_extension": ".py",
   "mimetype": "text/x-python",
   "name": "python",
   "nbconvert_exporter": "python",
   "pygments_lexer": "ipython3",
   "version": "3.6.7"
  }
 },
 "nbformat": 4,
 "nbformat_minor": 2
}
