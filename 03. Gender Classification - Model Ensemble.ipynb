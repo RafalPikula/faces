{
 "cells": [
  {
   "cell_type": "code",
   "execution_count": 1,
   "metadata": {},
   "outputs": [
    {
     "name": "stderr",
     "output_type": "stream",
     "text": [
      "Using TensorFlow backend.\n"
     ]
    }
   ],
   "source": [
    "import numpy as np\n",
    "import pandas as pd\n",
    "import matplotlib.pyplot as plt\n",
    "import seaborn as sns\n",
    "sns.set()\n",
    "\n",
    "from keras.models import load_model\n",
    "from keras.applications.resnet50 import preprocess_input as preprocess_input_resnet50\n",
    "from keras.applications.xception import preprocess_input as preprocess_input_xception"
   ]
  },
  {
   "cell_type": "markdown",
   "metadata": {},
   "source": [
    "Read in the data."
   ]
  },
  {
   "cell_type": "code",
   "execution_count": 2,
   "metadata": {},
   "outputs": [],
   "source": [
    "test_set = pd.read_csv('test_set_metadata.csv')\n",
    "X_test = np.load('test_set_hmgd_arr.npy')\n",
    "\n",
    "model_G1 = load_model('model_custom_small_epoch_019.hdf5')\n",
    "model_G2 = load_model('model_ResNet50_finetuning_epoch_011.hdf5')\n",
    "model_G3 = load_model('model_Xception_finetuning_epoch_005.hdf5')\n",
    "model_G4 = load_model('model_custom_big_epoch_034.hdf5')"
   ]
  },
  {
   "cell_type": "markdown",
   "metadata": {},
   "source": [
    "Compute predictions."
   ]
  },
  {
   "cell_type": "code",
   "execution_count": 3,
   "metadata": {},
   "outputs": [],
   "source": [
    "model_G1_preds = model_G1.predict_proba(255 * X_test)\n",
    "model_G2_preds = model_G2.predict(preprocess_input_resnet50(255 * X_test))\n",
    "model_G3_preds = model_G3.predict(preprocess_input_xception(255 * X_test))\n",
    "model_G4_preds = model_G4.predict_proba(255 * X_test)\n",
    "ensemble_preds = (model_G1_preds + model_G2_preds + model_G3_preds + model_G4_preds) / 4\n",
    "\n",
    "# free up memory\n",
    "del X_test"
   ]
  },
  {
   "cell_type": "markdown",
   "metadata": {},
   "source": [
    "Compute model ensemble accuracy."
   ]
  },
  {
   "cell_type": "code",
   "execution_count": 5,
   "metadata": {},
   "outputs": [
    {
     "name": "stdout",
     "output_type": "stream",
     "text": [
      "Model ensemble accuracy: 0.8994882561343656\n"
     ]
    }
   ],
   "source": [
    "ensemble_accuracy = ((ensemble_preds.ravel() > 0.5).astype(np.int) == test_set['gender']).mean()\n",
    "print(f'Model ensemble accuracy: {ensemble_accuracy}')"
   ]
  },
  {
   "cell_type": "code",
   "execution_count": null,
   "metadata": {},
   "outputs": [],
   "source": []
  }
 ],
 "metadata": {
  "kernelspec": {
   "display_name": "Python 3",
   "language": "python",
   "name": "python3"
  },
  "language_info": {
   "codemirror_mode": {
    "name": "ipython",
    "version": 3
   },
   "file_extension": ".py",
   "mimetype": "text/x-python",
   "name": "python",
   "nbconvert_exporter": "python",
   "pygments_lexer": "ipython3",
   "version": "3.6.7"
  }
 },
 "nbformat": 4,
 "nbformat_minor": 2
}
